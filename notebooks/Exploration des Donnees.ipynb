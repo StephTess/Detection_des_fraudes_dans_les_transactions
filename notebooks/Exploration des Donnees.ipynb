{
 "cells": [
  {
   "cell_type": "markdown",
   "id": "7b026ce8-cbdd-4e91-b392-9ccc0bae49e8",
   "metadata": {},
   "source": [
    "### 2) Exploration des donnees KPI"
   ]
  },
  {
   "cell_type": "code",
   "execution_count": 1,
   "id": "41eca167-070b-4dc6-8aee-9076df5ce950",
   "metadata": {},
   "outputs": [],
   "source": [
    "import sqlite3\n",
    "import pandas as pd\n",
    "import numpy as np\n",
    "import matplotlib.pyplot as plt\n",
    "import seaborn as sns\n",
    "\n",
    "# Connexion à la base de données\n",
    "conn = sqlite3.connect('../Datas/db/fraude_detection_warehouse_.db')"
   ]
  },
  {
   "cell_type": "markdown",
   "id": "91ce9b5d-a9f7-4e30-b0db-1595ed9d4241",
   "metadata": {},
   "source": [
    "### 1. Distribution des Types de Transactions"
   ]
  },
  {
   "cell_type": "code",
   "execution_count": 2,
   "id": "8398578e-8544-4178-917d-5a9ea945eaeb",
   "metadata": {},
   "outputs": [
    {
     "data": {
      "text/html": [
       "<div>\n",
       "<style scoped>\n",
       "    .dataframe tbody tr th:only-of-type {\n",
       "        vertical-align: middle;\n",
       "    }\n",
       "\n",
       "    .dataframe tbody tr th {\n",
       "        vertical-align: top;\n",
       "    }\n",
       "\n",
       "    .dataframe thead th {\n",
       "        text-align: right;\n",
       "    }\n",
       "</style>\n",
       "<table border=\"1\" class=\"dataframe\">\n",
       "  <thead>\n",
       "    <tr style=\"text-align: right;\">\n",
       "      <th></th>\n",
       "      <th>transaction_id</th>\n",
       "      <th>customer_id</th>\n",
       "      <th>device_id</th>\n",
       "      <th>transaction_date</th>\n",
       "      <th>transaction_type</th>\n",
       "      <th>amount</th>\n",
       "      <th>status</th>\n",
       "      <th>is_fraud</th>\n",
       "      <th>location</th>\n",
       "    </tr>\n",
       "  </thead>\n",
       "  <tbody>\n",
       "    <tr>\n",
       "      <th>0</th>\n",
       "      <td>731b17cfadce442ab756b5b110a406c2</td>\n",
       "      <td>d159ae25b3d04387bbc006b8f0df4629</td>\n",
       "      <td>f66d0310-bf70-4552-a732-5950c93b1134</td>\n",
       "      <td>2020-02-12</td>\n",
       "      <td>depôt</td>\n",
       "      <td>9.385805e+06</td>\n",
       "      <td>réussie</td>\n",
       "      <td>1</td>\n",
       "      <td>Douala</td>\n",
       "    </tr>\n",
       "    <tr>\n",
       "      <th>1</th>\n",
       "      <td>96f4ac611eaa4174b39149d98e569810</td>\n",
       "      <td>84d0894d1b9a4a8dbe13cfbb32d451df</td>\n",
       "      <td>f765ead3-ca24-48f4-9252-a6fd5fc53518</td>\n",
       "      <td>2022-02-03</td>\n",
       "      <td>depôt</td>\n",
       "      <td>3.358191e+06</td>\n",
       "      <td>réussie</td>\n",
       "      <td>0</td>\n",
       "      <td>Bafoussam</td>\n",
       "    </tr>\n",
       "    <tr>\n",
       "      <th>2</th>\n",
       "      <td>1c11b97ba2994efbb6f85291e7062e00</td>\n",
       "      <td>b01c160bdd134ac989f1d0d0163ac149</td>\n",
       "      <td>9cac18d3-defc-4142-9a39-b66fe1063f6e</td>\n",
       "      <td>2019-11-09</td>\n",
       "      <td>depôt</td>\n",
       "      <td>7.307758e+06</td>\n",
       "      <td>réussie</td>\n",
       "      <td>1</td>\n",
       "      <td>Bafoussam</td>\n",
       "    </tr>\n",
       "    <tr>\n",
       "      <th>3</th>\n",
       "      <td>99d146a3fbd04a38a5b83190b4ec22e3</td>\n",
       "      <td>31bd9c0aa340439899f52de6d89ac6eb</td>\n",
       "      <td>40ccde62-b98d-4e6b-bd3f-bf514cae73b9</td>\n",
       "      <td>2018-07-18</td>\n",
       "      <td>transfert</td>\n",
       "      <td>3.127519e+06</td>\n",
       "      <td>réussie</td>\n",
       "      <td>1</td>\n",
       "      <td>Bafoussam</td>\n",
       "    </tr>\n",
       "    <tr>\n",
       "      <th>4</th>\n",
       "      <td>bdab6a6430b44fadbf2f1682ccda4ae8</td>\n",
       "      <td>ade32958209d40cfb475e5bef5a2b4a3</td>\n",
       "      <td>16aa8a04-4cbd-48dc-88d2-ef9d0e8a2944</td>\n",
       "      <td>2019-12-29</td>\n",
       "      <td>retrait</td>\n",
       "      <td>4.435274e+06</td>\n",
       "      <td>réussie</td>\n",
       "      <td>0</td>\n",
       "      <td>Yaoundé</td>\n",
       "    </tr>\n",
       "  </tbody>\n",
       "</table>\n",
       "</div>"
      ],
      "text/plain": [
       "                     transaction_id                       customer_id  \\\n",
       "0  731b17cfadce442ab756b5b110a406c2  d159ae25b3d04387bbc006b8f0df4629   \n",
       "1  96f4ac611eaa4174b39149d98e569810  84d0894d1b9a4a8dbe13cfbb32d451df   \n",
       "2  1c11b97ba2994efbb6f85291e7062e00  b01c160bdd134ac989f1d0d0163ac149   \n",
       "3  99d146a3fbd04a38a5b83190b4ec22e3  31bd9c0aa340439899f52de6d89ac6eb   \n",
       "4  bdab6a6430b44fadbf2f1682ccda4ae8  ade32958209d40cfb475e5bef5a2b4a3   \n",
       "\n",
       "                              device_id transaction_date transaction_type  \\\n",
       "0  f66d0310-bf70-4552-a732-5950c93b1134       2020-02-12            depôt   \n",
       "1  f765ead3-ca24-48f4-9252-a6fd5fc53518       2022-02-03            depôt   \n",
       "2  9cac18d3-defc-4142-9a39-b66fe1063f6e       2019-11-09            depôt   \n",
       "3  40ccde62-b98d-4e6b-bd3f-bf514cae73b9       2018-07-18        transfert   \n",
       "4  16aa8a04-4cbd-48dc-88d2-ef9d0e8a2944       2019-12-29          retrait   \n",
       "\n",
       "         amount   status  is_fraud   location  \n",
       "0  9.385805e+06  réussie         1     Douala  \n",
       "1  3.358191e+06  réussie         0  Bafoussam  \n",
       "2  7.307758e+06  réussie         1  Bafoussam  \n",
       "3  3.127519e+06  réussie         1  Bafoussam  \n",
       "4  4.435274e+06  réussie         0    Yaoundé  "
      ]
     },
     "execution_count": 2,
     "metadata": {},
     "output_type": "execute_result"
    }
   ],
   "source": [
    "transactions = pd.read_sql_query('SELECT * FROM transactions', conn)\n",
    "transactions.head()"
   ]
  },
  {
   "cell_type": "code",
   "execution_count": 3,
   "id": "933af383-be99-4b0c-bee4-d38ee6f75ae8",
   "metadata": {},
   "outputs": [
    {
     "name": "stdout",
     "output_type": "stream",
     "text": [
      "  transaction_type  total_transactions  percentage\n",
      "0            depôt               50048      50.048\n",
      "1          retrait               24896      24.896\n",
      "2        transfert               25056      25.056\n"
     ]
    }
   ],
   "source": [
    "# Load transaction data\n",
    "transactions = pd.read_sql_query('SELECT * FROM transactions', conn)\n",
    "\n",
    "# Nombre total de transactions par type\n",
    "transaction_types = pd.read_sql_query(\"\"\"\n",
    "    SELECT transaction_type, COUNT(*) AS total_transactions\n",
    "    FROM transactions\n",
    "    GROUP BY transaction_type\n",
    "\"\"\", conn)\n",
    "\n",
    "# Pourcentage de chaque type de transaction par rapport au total des transactions.\n",
    "transaction_types['percentage'] = (transaction_types['total_transactions'] / transaction_types['total_transactions'].sum()) * 100\n",
    "\n",
    "print(transaction_types)"
   ]
  },
  {
   "cell_type": "markdown",
   "id": "1a9c4f31-0e33-4a24-bddb-13df5bd102c9",
   "metadata": {},
   "source": [
    "### 2. Statistiques des Montants des Transactions"
   ]
  },
  {
   "cell_type": "markdown",
   "id": "443f7511-cbe8-47d7-84a5-043093a9d55a",
   "metadata": {},
   "source": [
    "### 3. Analyse Temporelle"
   ]
  },
  {
   "cell_type": "code",
   "execution_count": 4,
   "id": "d8625194-caf3-4504-a256-0db1e224749f",
   "metadata": {},
   "outputs": [
    {
     "name": "stdout",
     "output_type": "stream",
     "text": [
      "Heure de la journée la plus fréquente pour les transactions: 0\n"
     ]
    }
   ],
   "source": [
    "# Nombre de transactions par jour\n",
    "daily_transactions = pd.read_sql_query('SELECT DATE(transaction_date) as date, COUNT(*) as transaction_count FROM transactions GROUP BY date', conn)\n",
    "#print(daily_transactions)\n",
    "\n",
    "# Montant total des transactions par jour\n",
    "daily_amounts = pd.read_sql_query('SELECT DATE(transaction_date) as date, SUM(amount) as total_amount FROM transactions GROUP BY date', conn)\n",
    "#print(daily_amounts)\n",
    "\n",
    "# Heure de la journée la plus fréquente pour les transactions\n",
    "transactions['hour'] = pd.to_datetime(transactions['transaction_date']).dt.hour\n",
    "most_frequent_hour = transactions['hour'].mode()[0]\n",
    "print(f\"Heure de la journée la plus fréquente pour les transactions: {most_frequent_hour}\")"
   ]
  },
  {
   "cell_type": "markdown",
   "id": "1492b97c-ecfd-48ba-b124-79093ec5dc2f",
   "metadata": {},
   "source": [
    "### 4. Analyse par Localisation"
   ]
  },
  {
   "cell_type": "code",
   "execution_count": 5,
   "id": "ab71a815-e4d5-4ad8-82ff-be733cf13ba4",
   "metadata": {},
   "outputs": [],
   "source": [
    "# Nombre de transactions par région\n",
    "regional_transactions = pd.read_sql_query('SELECT location, COUNT(*) as transaction_count FROM transactions GROUP BY location', conn)\n",
    "#print(regional_transactions)\n",
    "\n",
    "# Montant total des transactions par région\n",
    "regional_amounts = pd.read_sql_query('SELECT location, SUM(amount) as total_amount FROM transactions GROUP BY location', conn)\n",
    "#print(regional_amounts)\n",
    "\n",
    "# Distribution des types de transactions par région\n",
    "regional_distribution = pd.read_sql_query('SELECT location, transaction_type, COUNT(*) as count FROM transactions GROUP BY location, transaction_type', conn)\n",
    "#print(regional_distribution)"
   ]
  },
  {
   "cell_type": "markdown",
   "id": "31bfd7a2-57b9-4d03-8840-2354fd5e4d7a",
   "metadata": {},
   "source": [
    "### 5. Analyse des Clients"
   ]
  },
  {
   "cell_type": "code",
   "execution_count": 6,
   "id": "9352d60f-e5f9-4aeb-9d1a-bb3108b40e30",
   "metadata": {},
   "outputs": [],
   "source": [
    "# Load customers data\n",
    "customers = pd.read_sql_query('SELECT * FROM customers', conn)\n",
    "\n",
    "# Nombre total de clients actifs\n",
    "active_customers = pd.read_sql_query('SELECT COUNT(DISTINCT customer_id) as active_customers FROM transactions', conn)\n",
    "#print(active_customers)\n",
    "\n",
    "# Distribution des âges des clients\n",
    "customers['age'] = pd.to_datetime(customers['date_of_birth']).dt.year\n",
    "age_distribution = customers['age'].value_counts().sort_index()\n",
    "#print(age_distribution)\n",
    "\n",
    "# Nombre moyen de transactions par client\n",
    "avg_transactions_per_customer = pd.read_sql_query('SELECT AVG(transaction_count) as avg_transactions FROM (SELECT customer_id, COUNT(*) as transaction_count FROM transactions GROUP BY customer_id)', conn)\n",
    "#print(avg_transactions_per_customer)\n",
    "\n",
    "# Montant moyen des transactions par client\n",
    "avg_amount_per_customer = pd.read_sql_query('SELECT AVG(amount) as avg_amount FROM transactions GROUP BY customer_id', conn)\n",
    "#print(avg_amount_per_customer)"
   ]
  },
  {
   "cell_type": "markdown",
   "id": "abb3a852-5f8c-4d4a-8cbb-c0621f37b0ad",
   "metadata": {},
   "source": [
    "### 6. Analyse des Appareils"
   ]
  },
  {
   "cell_type": "code",
   "execution_count": 7,
   "id": "24137f95-44d2-415f-ac54-38c279e70b23",
   "metadata": {},
   "outputs": [],
   "source": [
    "# Distribution des types d'appareils utilisés\n",
    "device_distribution = pd.read_sql_query('SELECT device_type, COUNT(*) as count FROM devices GROUP BY device_type', conn)\n",
    "#print(device_distribution)\n",
    "\n",
    "# Distribution des systèmes d'exploitation\n",
    "os_distribution = pd.read_sql_query('SELECT os, COUNT(*) as count FROM devices GROUP BY os', conn)\n",
    "#print(os_distribution)\n",
    "\n",
    "# Nombre de transactions par appareil\n",
    "transactions_per_device = pd.read_sql_query('SELECT d.device_type, COUNT(t.transaction_id) as transaction_count FROM transactions t JOIN devices d ON t.device_id = d.device_id GROUP BY d.device_type', conn)\n",
    "#print(transactions_per_device)\n",
    "\n",
    "# Montant total des transactions par appareil\n",
    "total_amount_per_device = pd.read_sql_query('SELECT d.device_type, SUM(t.amount) as total_amount FROM transactions t JOIN devices d ON t.device_id = d.device_id GROUP BY d.device_type', conn)\n",
    "#print(total_amount_per_device)"
   ]
  },
  {
   "cell_type": "markdown",
   "id": "fcedd882-a9d8-426c-bd43-7cb32c12393e",
   "metadata": {},
   "source": [
    "### 7. Analyse des Historique de Transactions"
   ]
  },
  {
   "cell_type": "code",
   "execution_count": 8,
   "id": "518858be-7c22-4b06-9466-15df99c901f6",
   "metadata": {},
   "outputs": [
    {
     "name": "stdout",
     "output_type": "stream",
     "text": [
      "Nombre total de transactions :\n",
      "100000\n"
     ]
    }
   ],
   "source": [
    "# Requête SQL pour compter le nombre total de transactions\n",
    "total_transactions = pd.read_sql_query(\"\"\"\n",
    "SELECT COUNT(*) as total_transactions\n",
    "FROM transactions\n",
    "\"\"\", conn)\n",
    "\n",
    "# Affichage du résultat\n",
    "print(\"Nombre total de transactions :\")\n",
    "print(total_transactions['total_transactions'][0])"
   ]
  },
  {
   "cell_type": "markdown",
   "id": "5bd7e250-913a-40c1-9bb2-fcb12142adc7",
   "metadata": {},
   "source": [
    "### 8. Détection de Fraude"
   ]
  },
  {
   "cell_type": "code",
   "execution_count": 9,
   "id": "a80208b4-4748-4672-bde5-e97c155a6213",
   "metadata": {},
   "outputs": [],
   "source": [
    "# Nombre total de transactions frauduleuses\n",
    "total_fraudulent_transactions = pd.read_sql_query('SELECT COUNT(*) as total_fraud FROM transactions WHERE is_fraud = 1', conn)\n",
    "#print(total_fraudulent_transactions)\n",
    "\n",
    "# Pourcentage de transactions frauduleuses par rapport au total des transactions\n",
    "#fraud_percentage = (total_fraudulent_transactions['total_fraud'][0] / total_transactions) * 100\n",
    "\n",
    "# Montant total des transactions frauduleuses\n",
    "total_fraud_amount = pd.read_sql_query('SELECT SUM(amount) as total_fraud_amount FROM transactions WHERE is_fraud = 1', conn)\n",
    "#print(total_fraud_amount)\n",
    "\n",
    "# Distribution des transactions frauduleuses par type, région, appareil, et période\n",
    "fraud_distribution = pd.read_sql_query('SELECT transaction_type, location, device_id, COUNT(*) as count FROM transactions WHERE is_fraud = 1 GROUP BY transaction_type, location, device_id', conn)\n",
    "#print(fraud_distribution)\n",
    "\n",
    "# Taux de fraude par client\n",
    "fraud_rate_per_customer = pd.read_sql_query('SELECT customer_id, COUNT(*) as fraud_count FROM transactions WHERE is_fraud = 1 GROUP BY customer_id', conn)\n",
    "#print(fraud_rate_per_customer)\n"
   ]
  },
  {
   "cell_type": "code",
   "execution_count": 10,
   "id": "2b5672e5",
   "metadata": {},
   "outputs": [
    {
     "data": {
      "text/html": [
       "<div>\n",
       "<style scoped>\n",
       "    .dataframe tbody tr th:only-of-type {\n",
       "        vertical-align: middle;\n",
       "    }\n",
       "\n",
       "    .dataframe tbody tr th {\n",
       "        vertical-align: top;\n",
       "    }\n",
       "\n",
       "    .dataframe thead th {\n",
       "        text-align: right;\n",
       "    }\n",
       "</style>\n",
       "<table border=\"1\" class=\"dataframe\">\n",
       "  <thead>\n",
       "    <tr style=\"text-align: right;\">\n",
       "      <th></th>\n",
       "      <th>total_fraud</th>\n",
       "    </tr>\n",
       "  </thead>\n",
       "  <tbody>\n",
       "    <tr>\n",
       "      <th>0</th>\n",
       "      <td>56707</td>\n",
       "    </tr>\n",
       "  </tbody>\n",
       "</table>\n",
       "</div>"
      ],
      "text/plain": [
       "   total_fraud\n",
       "0        56707"
      ]
     },
     "execution_count": 10,
     "metadata": {},
     "output_type": "execute_result"
    }
   ],
   "source": [
    "total_fraudulent_transactions"
   ]
  },
  {
   "cell_type": "markdown",
   "id": "f790e9fd-06c9-489b-a847-14907d341e90",
   "metadata": {},
   "source": [
    "### 9. Alertes de Fraude"
   ]
  },
  {
   "cell_type": "code",
   "execution_count": null,
   "id": "d56c77a0-8d90-491d-a7bb-a36ac799598b",
   "metadata": {},
   "outputs": [],
   "source": [
    "# Nombre total d'alertes générées\n",
    "total_alerts = pd.read_sql_query('SELECT COUNT(*) as total_alerts FROM alerts', conn)\n",
    "#print(total_alerts)\n",
    "\n",
    "# Distribution des types d'alertes\n",
    "alert_distribution = pd.read_sql_query('SELECT alert_type, COUNT(*) as count FROM alerts GROUP BY alert_type', conn)\n",
    "#print(alert_distribution)\n",
    "\n",
    "# Taux de résolution des alertes\n",
    "resolution_rate = pd.read_sql_query('SELECT (SUM(CASE WHEN alert_status = \"closed\" THEN 1 ELSE 0 END) * 1.0 / COUNT(*)) as resolution_rate FROM alerts', conn)\n",
    "#print(resolution_rate)\n",
    "\n",
    "# Temps moyen de résolution des alertes\n",
    "average_resolution_time = pd.read_sql_query('SELECT AVG(julianday(alert_date) - julianday(transaction_date)) as avg_resolution_time FROM alerts JOIN transactions ON alerts.transaction_id = transactions.transaction_id', conn)\n",
    "#print(average_resolution_time)"
   ]
  },
  {
   "cell_type": "markdown",
   "id": "7cedf325-f9f1-4860-9d60-a6721e22ae04",
   "metadata": {},
   "source": [
    "### 10. Cas de Fraude Confirmés"
   ]
  },
  {
   "cell_type": "code",
   "execution_count": null,
   "id": "355f90a9-3159-461c-8bc1-9aab5df9e3eb",
   "metadata": {},
   "outputs": [],
   "source": []
  }
 ],
 "metadata": {
  "kernelspec": {
   "display_name": "Python 3 (ipykernel)",
   "language": "python",
   "name": "python3"
  },
  "language_info": {
   "codemirror_mode": {
    "name": "ipython",
    "version": 3
   },
   "file_extension": ".py",
   "mimetype": "text/x-python",
   "name": "python",
   "nbconvert_exporter": "python",
   "pygments_lexer": "ipython3",
   "version": "3.11.7"
  }
 },
 "nbformat": 4,
 "nbformat_minor": 5
}
